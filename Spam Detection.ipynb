{
 "cells": [
  {
   "cell_type": "code",
   "execution_count": 42,
   "id": "528b6c7e",
   "metadata": {},
   "outputs": [],
   "source": [
    "# Import necessary libraries\n",
    "import os\n",
    "import glob\n",
    "\n",
    "\n",
    "from sklearn.feature_extraction.text import CountVectorizer\n",
    "from sklearn.naive_bayes import MultinomialNB\n",
    "from sklearn.metrics import confusion_matrix, classification_report, roc_auc_score\n",
    "from sklearn.model_selection import train_test_split, StratifiedKFold\n",
    "\n",
    "import numpy as np\n",
    "import matplotlib.pyplot as plt\n",
    "\n",
    "# import my tools \n",
    "import my_tools"
   ]
  },
  {
   "cell_type": "code",
   "execution_count": 13,
   "id": "4aea2254",
   "metadata": {},
   "outputs": [],
   "source": [
    "# import the dataset\n",
    "ham_path = 'enron1/ham/'\n",
    "spam_path = 'enron1/spam/'"
   ]
  },
  {
   "cell_type": "code",
   "execution_count": 14,
   "id": "e93658d2",
   "metadata": {},
   "outputs": [],
   "source": [
    "# Read the dataset\n",
    "emails, labels = [], []\n",
    "\n",
    "for filename in glob.glob(os.path.join(ham_path, '*.txt')):\n",
    "    with open(filename, 'r', encoding = \"ISO-8859-1\") as infile:\n",
    "        emails.append(infile.read())\n",
    "        labels.append(0)\n",
    "\n",
    "for filename in glob.glob(os.path.join(spam_path, '*.txt')):\n",
    "    with open(filename, 'r', encoding = \"ISO-8859-1\") as infile:\n",
    "        emails.append(infile.read())\n",
    "        labels.append(1)\n"
   ]
  },
  {
   "cell_type": "code",
   "execution_count": 15,
   "id": "3784c34f",
   "metadata": {
    "scrolled": true
   },
   "outputs": [],
   "source": [
    "# Preprocess and clean the raw text data.\n",
    "cleaned_emails = my_tools.clean_text(emails)"
   ]
  },
  {
   "cell_type": "code",
   "execution_count": 16,
   "id": "3dbe9e3f",
   "metadata": {},
   "outputs": [],
   "source": [
    "# Remove stop words\n",
    "cv = CountVectorizer(stop_words=\"english\", max_features=500)\n",
    "\n",
    "# split dataset in train and test\n",
    "X_train, X_test, Y_train, Y_test = train_test_split(cleaned_emails, labels, test_size=0.33, random_state=42)"
   ]
  },
  {
   "cell_type": "code",
   "execution_count": 17,
   "id": "fdffa379",
   "metadata": {},
   "outputs": [],
   "source": [
    "# Build model\n",
    "label_index = my_tools.get_label_index(labels)\n",
    "prior = my_tools.get_prior(label_index)\n",
    "smoothing = 1"
   ]
  },
  {
   "cell_type": "code",
   "execution_count": 18,
   "id": "1badefc7",
   "metadata": {},
   "outputs": [],
   "source": [
    "# Each row is a term frequency sparse vector for a document and email.\n",
    "term_docs_train = cv.fit_transform(X_train)\n",
    "label_index = my_tools.get_label_index(Y_train)\n",
    "prior = my_tools.get_prior(label_index)\n",
    "likelihood = my_tools.get_likelihood(term_docs_train, label_index, smoothing)\n",
    "\n",
    "# Predict the posterior of the testing/new dataset\n",
    "term_docs_test = cv.transform(X_test)\n",
    "posterior = my_tools.get_posterior(term_docs_test, prior, likelihood)"
   ]
  },
  {
   "cell_type": "code",
   "execution_count": 19,
   "id": "398212d2",
   "metadata": {},
   "outputs": [
    {
     "name": "stdout",
     "output_type": "stream",
     "text": [
      "The accuracy on 1707 testing samples is:90.4%\n"
     ]
    }
   ],
   "source": [
    "# evaluate the model performance\n",
    "correct = 0.0\n",
    "for pred, actual in zip(posterior, Y_test):\n",
    "    if actual == 1:\n",
    "        if pred[1] >= 0.5:\n",
    "            correct += 1\n",
    "    elif pred[0] > 0.5:\n",
    "        correct += 1\n",
    "\n",
    "print('The accuracy on {0} testing samples is:{1:.1f}%'.format(\n",
    "    len(Y_test), correct/len(Y_test) * 100 )\n",
    ")\n"
   ]
  },
  {
   "cell_type": "code",
   "execution_count": 9,
   "id": "bbe7ac03",
   "metadata": {},
   "outputs": [
    {
     "name": "stdout",
     "output_type": "stream",
     "text": [
      "[{0: 0.6888456236212768, 1: 0.31115437637872323}, {0: 0.7543059820837963, 1: 0.24569401791620366}, {0: 0.13791900131635174, 1: 0.8620809986836483}]\n",
      "Email 1: is legit email\n",
      "Email 2: is legit email\n",
      "Email 3: is spam\n"
     ]
    }
   ],
   "source": [
    "# Test code  DO NOT RUN THIS CELL!\n",
    "emails_test = [\n",
    "    \"Hello dear, i hope you are allright\",\n",
    "    \"Do not forget our date at 5:00pm\",\n",
    "    \"You have WON!!! Click and receive awards\"\n",
    " ]\n",
    "\n",
    "cleaned_test = my_tools.clean_text(emails_test)\n",
    "term_docs_test = cv.transform(cleaned_test)\n",
    "posterior = my_tools.get_posterior(term_docs_test, prior, likelihood)\n",
    "print(posterior)\n",
    "\n",
    "for num,item in enumerate(posterior):\n",
    "    if item[0] > item[1]:\n",
    "        print(f'Email {num+1}: is legit email')\n",
    "    elif item[0] < item[1]:\n",
    "        print(f'Email {num+1}: is spam')"
   ]
  },
  {
   "cell_type": "markdown",
   "id": "0404647b",
   "metadata": {},
   "source": [
    "## Spam detection using scikit learn"
   ]
  },
  {
   "cell_type": "code",
   "execution_count": 27,
   "id": "d9827db3",
   "metadata": {},
   "outputs": [],
   "source": [
    "clf = MultinomialNB(alpha=1.0, fit_prior=True)"
   ]
  },
  {
   "cell_type": "code",
   "execution_count": 28,
   "id": "005093a7",
   "metadata": {},
   "outputs": [
    {
     "data": {
      "text/html": [
       "<style>#sk-container-id-3 {color: black;background-color: white;}#sk-container-id-3 pre{padding: 0;}#sk-container-id-3 div.sk-toggleable {background-color: white;}#sk-container-id-3 label.sk-toggleable__label {cursor: pointer;display: block;width: 100%;margin-bottom: 0;padding: 0.3em;box-sizing: border-box;text-align: center;}#sk-container-id-3 label.sk-toggleable__label-arrow:before {content: \"▸\";float: left;margin-right: 0.25em;color: #696969;}#sk-container-id-3 label.sk-toggleable__label-arrow:hover:before {color: black;}#sk-container-id-3 div.sk-estimator:hover label.sk-toggleable__label-arrow:before {color: black;}#sk-container-id-3 div.sk-toggleable__content {max-height: 0;max-width: 0;overflow: hidden;text-align: left;background-color: #f0f8ff;}#sk-container-id-3 div.sk-toggleable__content pre {margin: 0.2em;color: black;border-radius: 0.25em;background-color: #f0f8ff;}#sk-container-id-3 input.sk-toggleable__control:checked~div.sk-toggleable__content {max-height: 200px;max-width: 100%;overflow: auto;}#sk-container-id-3 input.sk-toggleable__control:checked~label.sk-toggleable__label-arrow:before {content: \"▾\";}#sk-container-id-3 div.sk-estimator input.sk-toggleable__control:checked~label.sk-toggleable__label {background-color: #d4ebff;}#sk-container-id-3 div.sk-label input.sk-toggleable__control:checked~label.sk-toggleable__label {background-color: #d4ebff;}#sk-container-id-3 input.sk-hidden--visually {border: 0;clip: rect(1px 1px 1px 1px);clip: rect(1px, 1px, 1px, 1px);height: 1px;margin: -1px;overflow: hidden;padding: 0;position: absolute;width: 1px;}#sk-container-id-3 div.sk-estimator {font-family: monospace;background-color: #f0f8ff;border: 1px dotted black;border-radius: 0.25em;box-sizing: border-box;margin-bottom: 0.5em;}#sk-container-id-3 div.sk-estimator:hover {background-color: #d4ebff;}#sk-container-id-3 div.sk-parallel-item::after {content: \"\";width: 100%;border-bottom: 1px solid gray;flex-grow: 1;}#sk-container-id-3 div.sk-label:hover label.sk-toggleable__label {background-color: #d4ebff;}#sk-container-id-3 div.sk-serial::before {content: \"\";position: absolute;border-left: 1px solid gray;box-sizing: border-box;top: 0;bottom: 0;left: 50%;z-index: 0;}#sk-container-id-3 div.sk-serial {display: flex;flex-direction: column;align-items: center;background-color: white;padding-right: 0.2em;padding-left: 0.2em;position: relative;}#sk-container-id-3 div.sk-item {position: relative;z-index: 1;}#sk-container-id-3 div.sk-parallel {display: flex;align-items: stretch;justify-content: center;background-color: white;position: relative;}#sk-container-id-3 div.sk-item::before, #sk-container-id-3 div.sk-parallel-item::before {content: \"\";position: absolute;border-left: 1px solid gray;box-sizing: border-box;top: 0;bottom: 0;left: 50%;z-index: -1;}#sk-container-id-3 div.sk-parallel-item {display: flex;flex-direction: column;z-index: 1;position: relative;background-color: white;}#sk-container-id-3 div.sk-parallel-item:first-child::after {align-self: flex-end;width: 50%;}#sk-container-id-3 div.sk-parallel-item:last-child::after {align-self: flex-start;width: 50%;}#sk-container-id-3 div.sk-parallel-item:only-child::after {width: 0;}#sk-container-id-3 div.sk-dashed-wrapped {border: 1px dashed gray;margin: 0 0.4em 0.5em 0.4em;box-sizing: border-box;padding-bottom: 0.4em;background-color: white;}#sk-container-id-3 div.sk-label label {font-family: monospace;font-weight: bold;display: inline-block;line-height: 1.2em;}#sk-container-id-3 div.sk-label-container {text-align: center;}#sk-container-id-3 div.sk-container {/* jupyter's `normalize.less` sets `[hidden] { display: none; }` but bootstrap.min.css set `[hidden] { display: none !important; }` so we also need the `!important` here to be able to override the default hidden behavior on the sphinx rendered scikit-learn.org. See: https://github.com/scikit-learn/scikit-learn/issues/21755 */display: inline-block !important;position: relative;}#sk-container-id-3 div.sk-text-repr-fallback {display: none;}</style><div id=\"sk-container-id-3\" class=\"sk-top-container\"><div class=\"sk-text-repr-fallback\"><pre>MultinomialNB()</pre><b>In a Jupyter environment, please rerun this cell to show the HTML representation or trust the notebook. <br />On GitHub, the HTML representation is unable to render, please try loading this page with nbviewer.org.</b></div><div class=\"sk-container\" hidden><div class=\"sk-item\"><div class=\"sk-estimator sk-toggleable\"><input class=\"sk-toggleable__control sk-hidden--visually\" id=\"sk-estimator-id-3\" type=\"checkbox\" checked><label for=\"sk-estimator-id-3\" class=\"sk-toggleable__label sk-toggleable__label-arrow\">MultinomialNB</label><div class=\"sk-toggleable__content\"><pre>MultinomialNB()</pre></div></div></div></div></div>"
      ],
      "text/plain": [
       "MultinomialNB()"
      ]
     },
     "execution_count": 28,
     "metadata": {},
     "output_type": "execute_result"
    }
   ],
   "source": [
    "clf.fit(term_docs_train, Y_train)"
   ]
  },
  {
   "cell_type": "code",
   "execution_count": 29,
   "id": "51618e7b",
   "metadata": {},
   "outputs": [
    {
     "data": {
      "text/plain": [
       "array([[1.00000000e+000, 6.40853994e-038],\n",
       "       [9.99999996e-001, 4.03791754e-009],\n",
       "       [7.05050505e-001, 2.94949495e-001],\n",
       "       [9.98826504e-001, 1.17349633e-003],\n",
       "       [1.00000000e+000, 7.90657891e-025],\n",
       "       [1.00000000e+000, 1.04379830e-038],\n",
       "       [1.00000000e+000, 1.79700713e-039],\n",
       "       [1.17229798e-001, 8.82770202e-001],\n",
       "       [1.00000000e+000, 1.27546445e-103],\n",
       "       [1.00000000e+000, 4.92235841e-020]])"
      ]
     },
     "execution_count": 29,
     "metadata": {},
     "output_type": "execute_result"
    }
   ],
   "source": [
    "#obtain the prediction results with the predict_proba method:\n",
    "prediction_prob = clf.predict_proba(term_docs_test)\n",
    "prediction_prob[:10]"
   ]
  },
  {
   "cell_type": "code",
   "execution_count": 30,
   "id": "27bf5334",
   "metadata": {},
   "outputs": [
    {
     "data": {
      "text/plain": [
       "array([0, 0, 0, 0, 0, 0, 0, 1, 0, 0])"
      ]
     },
     "execution_count": 30,
     "metadata": {},
     "output_type": "execute_result"
    }
   ],
   "source": [
    "prediction = clf.predict(term_docs_test)\n",
    "prediction[:10]"
   ]
  },
  {
   "cell_type": "code",
   "execution_count": 31,
   "id": "096a08b7",
   "metadata": {},
   "outputs": [
    {
     "name": "stdout",
     "output_type": "stream",
     "text": [
      "The accuracy using MultinomialNB is:91.0%\n"
     ]
    }
   ],
   "source": [
    "# measure the accuracy performanceby calling the score method\n",
    "accuracy = clf.score(term_docs_test, Y_test)\n",
    "print('The accuracy using MultinomialNB is:{0:.1f}%'.format(accuracy*100))"
   ]
  },
  {
   "cell_type": "code",
   "execution_count": 32,
   "id": "6fc38817",
   "metadata": {},
   "outputs": [],
   "source": [
    "report = classification_report(Y_test, prediction)"
   ]
  },
  {
   "cell_type": "code",
   "execution_count": 33,
   "id": "a99f802f",
   "metadata": {},
   "outputs": [
    {
     "name": "stdout",
     "output_type": "stream",
     "text": [
      "              precision    recall  f1-score   support\n",
      "\n",
      "           0       0.96      0.92      0.94      1229\n",
      "           1       0.81      0.89      0.85       478\n",
      "\n",
      "    accuracy                           0.91      1707\n",
      "   macro avg       0.88      0.91      0.89      1707\n",
      "weighted avg       0.91      0.91      0.91      1707\n",
      "\n"
     ]
    }
   ],
   "source": [
    "print(report)"
   ]
  },
  {
   "cell_type": "markdown",
   "id": "6a004143",
   "metadata": {},
   "source": [
    "1) Precision\n",
    "  > fraction of CORRECT positive calls : TP / (TP + FP)\n",
    "\n",
    "2) Recall(true positive rate)\n",
    "  > fraction of TP that are correctly identified:\n",
    "       TP / (TP +FN)\n",
    "       \n",
    "3) F1 score: includes both the precision and the recall, and equates to their harmonic mean:\n",
    "> F1 = 2* (precision*recall) / (precision+recall)"
   ]
  },
  {
   "cell_type": "markdown",
   "id": "9403f927",
   "metadata": {},
   "source": [
    "Sometimes a model has a higher average f1 score than another model, but \n",
    "a significantly low f1 score for a particular class; sometimes two \n",
    "models have the same average f1 scores, but one has a higher f1 score\n",
    "for one class while a lower score for another class. In situations like \n",
    "these, how can we judge which model works better? **Area Under the Curve \n",
    "(AUC) of the Receiver Operating Characteristic (ROC) is a united\n",
    "measurement frequently used in binary classification.**\n",
    "\n",
    ">**ROC curve is a plot of the true positive rate versus the false positive rate at various\n",
    "probability thresholds ranging from 0 to 1**, if the probability of the\n",
    "positive class is greater than the threshold, the positive class is assigned, otherwise it is negative.\n"
   ]
  },
  {
   "cell_type": "code",
   "execution_count": 37,
   "id": "b8f29008",
   "metadata": {},
   "outputs": [],
   "source": [
    "# exhibit the ROC code\n",
    "pos_prob = prediction_prob[:,1]\n",
    "thresholds = np.arange(0.0, 1.2, 0.1)\n",
    "true_pos, false_pos = [0] * len(thresholds), [0] * len(thresholds)\n",
    "for pred, y in zip(pos_prob, Y_test):\n",
    "    for i,threshold in enumerate(thresholds):\n",
    "        if pred >= threshold:\n",
    "        # if true and predictrion are both 1\n",
    "            if y == 1:\n",
    "                true_pos[i] += 1\n",
    "            # if truth is 0 while prediction is 1\n",
    "            else:\n",
    "                false_pos[i] += 1\n",
    "        else:\n",
    "            break"
   ]
  },
  {
   "cell_type": "code",
   "execution_count": 38,
   "id": "dd24333e",
   "metadata": {},
   "outputs": [],
   "source": [
    "# calculate the true and false positive rates for all threshold\n",
    "true_pos_rate = [tp/ 478.0 for tp in true_pos]\n",
    "false_pos_rate = [fp / 1229.0 for fp in false_pos]"
   ]
  },
  {
   "cell_type": "markdown",
   "id": "90b0e238",
   "metadata": {},
   "source": [
    "#### Plot ROC curve"
   ]
  },
  {
   "cell_type": "code",
   "execution_count": 39,
   "id": "926a8684",
   "metadata": {},
   "outputs": [
    {
     "name": "stderr",
     "output_type": "stream",
     "text": [
      "No artists with labels found to put in legend.  Note that artists whose label start with an underscore are ignored when legend() is called with no argument.\n"
     ]
    },
    {
     "data": {
      "image/png": "[encoded data removed]",
      "text/plain": [
       "<Figure size 432x288 with 1 Axes>"
      ]
     },
     "metadata": {
      "needs_background": "light"
     },
     "output_type": "display_data"
    }
   ],
   "source": [
    "plt.figure()\n",
    "lw = 2\n",
    "plt.plot(false_pos_rate, true_pos_rate, color='darkorange', lw=lw)\n",
    "plt.plot([0,1],[0,1], color='navy', lw=lw, linestyle='--')\n",
    "plt.xlim([0.0,1.0])\n",
    "plt.ylim([0.0,1.05])\n",
    "plt.xlabel('False Positive Rate')\n",
    "plt.ylabel('True Positive Rate')\n",
    "plt.title('Receiver Operating Characteristic')\n",
    "plt.legend(loc=\"lower right\")\n",
    "plt.show()"
   ]
  },
  {
   "cell_type": "markdown",
   "id": "e554f1dd",
   "metadata": {},
   "source": [
    "**The dash line** is the baseline representing random guessing here the true positive rate increases linearly with the false positive rate, and its AUC is 0.5.\n",
    "**The orange line** is the ROC plot of our model, and its AUC is somewhat less than 1\n",
    ">**In a perfect case**, the true positive samples have a probability 1, so that the ROC starts at the point with 100% true positive and 0 false positive. The AUC of such a perfect curve is 1. \n",
    ">>**To compute the exact AUC of our model, we can resort to the scikit-learn roc_auc_score function:**"
   ]
  },
  {
   "cell_type": "code",
   "execution_count": 43,
   "id": "f19d4782",
   "metadata": {},
   "outputs": [],
   "source": [
    "#to divide the data into chunks with preserved class fractions we use the StratifiedKFold\n",
    "k = 10\n",
    "k_fold = StratifiedKFold(n_splits=k)\n",
    "cleaned_emails_np = np.array(cleaned_emails)\n",
    "labels_np = np.array(labels)\n",
    "max_features_option = [2000, 4000, 8000]\n",
    "smoothing_factor_option = [0.5, 1.0, 1.5, 2.0]\n",
    "fit_prior_option = [True, False]\n",
    "auc_record = {}"
   ]
  },
  {
   "cell_type": "markdown",
   "id": "a2348a94",
   "metadata": {},
   "source": [
    "Then, for each fold generated by the split method of the k_fold object, repeat the process of term count feature extraction, classifier raining, and prediction with one of the aforementioned combinations of parameters, and record the resulting AUCs:"
   ]
  },
  {
   "cell_type": "code",
   "execution_count": 44,
   "id": "dab636f6",
   "metadata": {},
   "outputs": [],
   "source": [
    "for train_indices, test_indices in k_fold.split(cleaned_emails, labels):\n",
    "    X_train, X_test = cleaned_emails_np[train_indices], cleaned_emails_np[test_indices]\n",
    "    Y_train, Y_test = labels_np[train_indices], labels_np[test_indices]\n",
    "    for max_features in max_features_option:\n",
    "        if max_features not in auc_record:\n",
    "            auc_record[max_features] = {}\n",
    "        cv = CountVectorizer(stop_words='english', max_features=max_features)\n",
    "        term_docs_train = cv.fit_transform(X_train)\n",
    "        term_docs_test = cv.transform(X_test)\n",
    "        for smoothing in smoothing_factor_option:\n",
    "            if smoothing not in auc_record[max_features]:\n",
    "                auc_record[max_features][smoothing] = {}\n",
    "            for fit_prior in fit_prior_option:\n",
    "                clf = MultinomialNB(alpha=smoothing,\n",
    "                                   fit_prior=fit_prior)\n",
    "                clf.fit(term_docs_train, Y_train)\n",
    "                prediction_prob = clf.predict_proba(term_docs_test)\n",
    "                pos_prob = prediction_prob[:, 1]\n",
    "                auc = roc_auc_score(Y_test, pos_prob)\n",
    "                auc_record[max_features][smoothing][fit_prior] = auc + auc_record[max_features][smoothing].get(fit_prior, 0.0)\n",
    "                "
   ]
  },
  {
   "cell_type": "code",
   "execution_count": 46,
   "id": "0a22cd8c",
   "metadata": {},
   "outputs": [
    {
     "name": "stdout",
     "output_type": "stream",
     "text": [
      "max features\t smoothing\t fit prior\t auc\n",
      "2000\t\t 0.5\t\t True\t\t 0.9774\n",
      "2000\t\t 0.5\t\t False\t\t 0.9772\n",
      "2000\t\t 1.0\t\t True\t\t 0.9757\n",
      "2000\t\t 1.0\t\t False\t\t 0.9756\n",
      "2000\t\t 1.5\t\t True\t\t 0.9745\n",
      "2000\t\t 1.5\t\t False\t\t 0.9745\n",
      "2000\t\t 2.0\t\t True\t\t 0.9737\n",
      "2000\t\t 2.0\t\t False\t\t 0.9737\n",
      "4000\t\t 0.5\t\t True\t\t 0.9843\n",
      "4000\t\t 0.5\t\t False\t\t 0.9842\n",
      "4000\t\t 1.0\t\t True\t\t 0.9828\n",
      "4000\t\t 1.0\t\t False\t\t 0.9827\n",
      "4000\t\t 1.5\t\t True\t\t 0.9819\n",
      "4000\t\t 1.5\t\t False\t\t 0.9819\n",
      "4000\t\t 2.0\t\t True\t\t 0.9812\n",
      "4000\t\t 2.0\t\t False\t\t 0.9811\n",
      "8000\t\t 0.5\t\t True\t\t 0.9882\n",
      "8000\t\t 0.5\t\t False\t\t 0.9881\n",
      "8000\t\t 1.0\t\t True\t\t 0.9870\n",
      "8000\t\t 1.0\t\t False\t\t 0.9870\n",
      "8000\t\t 1.5\t\t True\t\t 0.9865\n",
      "8000\t\t 1.5\t\t False\t\t 0.9864\n",
      "8000\t\t 2.0\t\t True\t\t 0.9863\n",
      "8000\t\t 2.0\t\t False\t\t 0.9861\n"
     ]
    }
   ],
   "source": [
    "print('max features\\t smoothing\\t fit prior\\t auc'.format(max_features, smoothing, fit_prior, auc/k))\n",
    "for max_features, max_feature_record in auc_record.items():\n",
    "    for smoothing, smoothing_record in max_feature_record.items():\n",
    "        for fit_prior, auc in smoothing_record.items():\n",
    "            print('{0}\\t\\t {1}\\t\\t {2}\\t\\t {3:.4f}'.format(max_features, smoothing, fit_prior, auc/k))"
   ]
  },
  {
   "cell_type": "code",
   "execution_count": null,
   "id": "83231ab7",
   "metadata": {},
   "outputs": [],
   "source": []
  }
 ],
 "metadata": {
  "kernelspec": {
   "display_name": "Python 3 (ipykernel)",
   "language": "python",
   "name": "python3"
  },
  "language_info": {
   "codemirror_mode": {
    "name": "ipython",
    "version": 3
   },
   "file_extension": ".py",
   "mimetype": "text/x-python",
   "name": "python",
   "nbconvert_exporter": "python",
   "pygments_lexer": "ipython3",
   "version": "3.8.10"
  }
 },
 "nbformat": 4,
 "nbformat_minor": 5
}
